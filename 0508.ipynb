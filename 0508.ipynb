{
  "nbformat": 4,
  "nbformat_minor": 0,
  "metadata": {
    "colab": {
      "provenance": [],
      "authorship_tag": "ABX9TyNygzYvni/NtwrOMi46EZEn",
      "include_colab_link": true
    },
    "kernelspec": {
      "name": "python3",
      "display_name": "Python 3"
    },
    "language_info": {
      "name": "python"
    }
  },
  "cells": [
    {
      "cell_type": "markdown",
      "metadata": {
        "id": "view-in-github",
        "colab_type": "text"
      },
      "source": [
        "<a href=\"https://colab.research.google.com/github/yun0420/Introduction-to-Computers_112/blob/main/0508.ipynb\" target=\"_parent\"><img src=\"https://colab.research.google.com/assets/colab-badge.svg\" alt=\"Open In Colab\"/></a>"
      ]
    },
    {
      "cell_type": "code",
      "source": [
        "a=float(input(\"請輸入體溫\"))\n",
        "if (a>=37.5):\n",
        "    print(\"體溫過高！\")\n",
        "elif (a>=37 and a<=37.4):\n",
        "    print(\"體溫略高！\")\n",
        "elif (a>=34 and a<=36.9):\n",
        "    print(\"體溫正常！\")\n",
        "else:\n",
        "    print(\"體溫異常，請重新測量！\")"
      ],
      "metadata": {
        "colab": {
          "base_uri": "https://localhost:8080/"
        },
        "id": "zGAUbzzgpux1",
        "outputId": "a01748c3-5829-440d-ebf8-729921c4f85a"
      },
      "execution_count": 16,
      "outputs": [
        {
          "output_type": "stream",
          "name": "stdout",
          "text": [
            "請輸入體溫35\n",
            "體溫正常！\n"
          ]
        }
      ]
    },
    {
      "cell_type": "code",
      "source": [
        "z = int(input(\"請輸入成績\"))\n",
        "if (z>=90):\n",
        "    print(\"A\")\n",
        "elif (z>=80 and z<=89):\n",
        "    print(\"B\")\n",
        "elif (z>=70 and z<=79):\n",
        "    print(\"C\")\n",
        "elif (z>=60 and z<=69):\n",
        "    print(\"D\")\n",
        "else:\n",
        "    print(\"E\")\n"
      ],
      "metadata": {
        "colab": {
          "base_uri": "https://localhost:8080/"
        },
        "id": "tquaz6s0Bnpe",
        "outputId": "1e8212b3-0596-45cf-a019-40a83b472bd9"
      },
      "execution_count": 19,
      "outputs": [
        {
          "output_type": "stream",
          "name": "stdout",
          "text": [
            "請輸入成績90\n",
            "A\n"
          ]
        }
      ]
    },
    {
      "cell_type": "code",
      "source": [
        "a = int(input(\"請輸入月份\"))\n",
        "if(a>=3 and a<=5):\n",
        "    print(a,\"月是春天\")\n",
        "elif(a>=6 and a<=8):\n",
        "    print(a,\"月是夏天\")\n",
        "elif(a>=9 and a<=11):\n",
        "    print(a,\"月是秋天\")\n",
        "elif(a==12 and a<=2):\n",
        "    print(a,\"月是冬天\")\n",
        "else:\n",
        "    print(\"月份不在範圍內\")"
      ],
      "metadata": {
        "colab": {
          "base_uri": "https://localhost:8080/"
        },
        "id": "QZ35LiDDDZ5I",
        "outputId": "5c49f799-9636-4fda-d280-c56a2f08757a"
      },
      "execution_count": 10,
      "outputs": [
        {
          "output_type": "stream",
          "name": "stdout",
          "text": [
            "請輸入月份8\n",
            "8 月是夏天\n"
          ]
        }
      ]
    }
  ]
}